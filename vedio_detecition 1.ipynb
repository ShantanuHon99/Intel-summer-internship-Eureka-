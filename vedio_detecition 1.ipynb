{
 "cells": [
  {
   "cell_type": "code",
   "execution_count": null,
   "id": "96b42d54-7afc-4049-8cb6-b48a1ef070e1",
   "metadata": {},
   "outputs": [
    {
     "name": "stderr",
     "output_type": "stream",
     "text": [
      "C:\\Users\\sai\\AppData\\Local\\Temp\\ipykernel_15328\\4294906487.py:45: RuntimeWarning: divide by zero encountered in scalar divide\n",
      "  speed = distance_meters / (time.time() - prev_time)\n",
      "C:\\Users\\sai\\AppData\\Local\\Temp\\ipykernel_15328\\4294906487.py:49: RuntimeWarning: invalid value encountered in scalar divide\n",
      "  time_to_collision = distance_meters / speed\n"
     ]
    }
   ],
   "source": [
    "import cv2\n",
    "import time\n",
    "\n",
    "# Constants for speed calculation\n",
    "PIXEL_TO_METERS = 0.1  # Assuming 1 pixel = 0.1 meters (adjust according to your setup)\n",
    "FRAME_INTERVAL = 0.05  # Time interval between frames in seconds\n",
    "\n",
    "# Create our body classifier\n",
    "car_classifier = cv2.CascadeClassifier(r'C:\\Users\\sai\\Desktop\\intel project eureka\\vechile_cut-in_detection_system\\haarcascade_car.xml')\n",
    "\n",
    "# Initiate video capture for video file\n",
    "cap = cv2.VideoCapture(r'C:\\Users\\sai\\Desktop\\intel project eureka\\vechile_cut-in_detection_system\\VID-20240706-WA0003.mp4')\n",
    "\n",
    "# Variables to track previous car position for speed calculation\n",
    "prev_car_position = None\n",
    "prev_time = None\n",
    "\n",
    "# Loop once video is successfully loaded\n",
    "while cap.isOpened():\n",
    "    \n",
    "    time.sleep(.05)\n",
    "    # Read frame-by-frame\n",
    "    ret, frame = cap.read()\n",
    "    \n",
    "    if not ret:  # If frame is not successfully read, break the loop\n",
    "        break\n",
    "    \n",
    "    gray = cv2.cvtColor(frame, cv2.COLOR_BGR2GRAY)\n",
    "   \n",
    "    # Pass frame to our car classifier\n",
    "    cars = car_classifier.detectMultiScale(gray, 1.4, 2)\n",
    "    \n",
    "    # Extract bounding boxes for any bodies identified\n",
    "    for (x,y,w,h) in cars:\n",
    "        cv2.rectangle(frame, (x, y), (x+w, y+h), (0, 255, 255), 2)\n",
    "        \n",
    "        # Calculate distance (assuming cars are detected at same depth level)\n",
    "        if prev_car_position is not None:\n",
    "            distance_pixels = abs(x - prev_car_position[0])\n",
    "            distance_meters = distance_pixels * PIXEL_TO_METERS\n",
    "            cv2.putText(frame, f\"Distance: {distance_meters:.2f} meters\", (x, y - 10), cv2.FONT_HERSHEY_SIMPLEX, 0.5, (0, 255, 255), 2)\n",
    "\n",
    "            # Calculate speed\n",
    "            if prev_time is not None:\n",
    "                speed = distance_meters / (time.time() - prev_time)\n",
    "                cv2.putText(frame, f\"Speed: {speed:.2f} m/s\", (x, y - 30), cv2.FONT_HERSHEY_SIMPLEX, 0.5, (0, 255, 255), 2)\n",
    "                \n",
    "                # Calculate time to collision assuming constant speed\n",
    "                time_to_collision = distance_meters / speed\n",
    "                cv2.putText(frame, f\"Time to Collision: {time_to_collision:.2f} seconds\", (x, y - 50), cv2.FONT_HERSHEY_SIMPLEX, 0.5, (0, 255, 255), 2)\n",
    "\n",
    "                # Example for warning message based on time to collision\n",
    "                if time_to_collision < 0.05:\n",
    "                    cv2.putText(frame, \"Warning: Collision Imminent!\", (x, y - 70), cv2.FONT_HERSHEY_SIMPLEX, 0.5, (0, 0, 255), 2)\n",
    "                elif time_to_collision < 0.5:\n",
    "                    cv2.putText(frame, \"Warning: Keep Safe Distance\", (x, y - 70), cv2.FONT_HERSHEY_SIMPLEX, 0.5, (0, 165, 255), 2)\n",
    "                else:\n",
    "                    cv2.putText(frame, \"Safe\", (x, y - 70), cv2.FONT_HERSHEY_SIMPLEX, 0.5, (0, 255, 0), 2)\n",
    "\n",
    "        prev_car_position = (x, y)\n",
    "        prev_time = time.time()\n",
    "        \n",
    "        cv2.imshow('Cars', frame)\n",
    "\n",
    "    if cv2.waitKey(1) == 13:  # is the Enter Key\n",
    "        break\n",
    "        \n",
    "cap.release()\n",
    "cv2.destroyAllWindows()\n"
   ]
  },
  {
   "cell_type": "code",
   "execution_count": null,
   "id": "2a48a287-69dc-4ee6-afff-9c23d309ff84",
   "metadata": {},
   "outputs": [],
   "source": []
  }
 ],
 "metadata": {
  "kernelspec": {
   "display_name": "Python 3 (ipykernel)",
   "language": "python",
   "name": "python3"
  },
  "language_info": {
   "codemirror_mode": {
    "name": "ipython",
    "version": 3
   },
   "file_extension": ".py",
   "mimetype": "text/x-python",
   "name": "python",
   "nbconvert_exporter": "python",
   "pygments_lexer": "ipython3",
   "version": "3.12.4"
  }
 },
 "nbformat": 4,
 "nbformat_minor": 5
}
